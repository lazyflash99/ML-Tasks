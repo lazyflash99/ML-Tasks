import numpy as np
import pandas as pd
import seaborn as sns
import matplotlib.pyplot as plt
from sklearn.impute import SimpleImputer
from sklearn.compose import ColumnTransformer
from sklearn.preprocessing import OneHotEncoder, LabelEncoder
from sklearn.linear_model import LogisticRegression
from sklearn.tree import DecisionTreeClassifier
from sklearn.ensemble import RandomForestClassifier
from sklearn.model_selection import train_test_split
from sklearn.metrics import accuracy_score,confusion_matrix


df = pd.read_csv("https://raw.githubusercontent.com/lazyflash99/ML-Tasks/refs/heads/main/Task%201/datasets/Dataset.csv")


df.info()


df.head()


df.isna().sum(axis = 0)





df.head()


sns.heatmap(df.corr(numeric_only=True),cmap = "Blues")
plt.xlabel("Column names")
plt.ylabel("Column names")
plt.title("Column dependencies")





df.groupby("Feature_1").Feature_1.count()





df.groupby("Feature_2").Feature_2.count()


df.groupby("Feature_3").Feature_3.count()














cat_impute = SimpleImputer(missing_values = np.nan, strategy = "most_frequent")
num_impute = SimpleImputer(missing_values = np.nan, strategy = "mean")


df.loc[:,["famsize","higher"]] = cat_impute.fit_transform(df.loc[:,["famsize","higher"]])


df.loc[:,["Fedu", "traveltime", "freetime", "absences", "G2", "Feature_1", "Feature_2", "Feature_3"]] = num_impute.fit_transform(df.loc[:,["Fedu", "traveltime", "freetime", "absences", "G2", "Feature_1", "Feature_2", "Feature_3"]])


df.isna().sum()


df.sample(5)





df.columns





df_address_school = df.loc[:,["address","school"]]


df_address_school.head()








df_mod = df.copy() 


df_mod.loc[df_mod["romantic"]=="yes","romantic"]= 1
df_mod.loc[df_mod["romantic"]=="no","romantic"]= 0


df_mod.romantic = pd.to_numeric(df_mod.romantic)


df_mod.info()


df_part1 = df_mod.iloc[:,:-1]


df_modf = pd.get_dummies(df_part1)


df_modf["romantic"]=df_mod["romantic"]


df_modf.info()


X = df_modf.iloc[:,:-1]
y = df_modf.iloc[:,-1]


X_train,X_test,y_train,y_test = train_test_split(X,y,train_size = 0.3,stratify=y)


regr = LogisticRegression(max_iter = 1000000)


regr.fit(X_train,y_train)


y_pred = regr.predict(X_test)


accuracy_score(y_test,y_pred)


decisiontree = DecisionTreeClassifier()


decisiontree.fit(X_train,y_train)


y_pred_dt = decisiontree.predict(X_test)


accuracy_score(y_test,y_pred_dt)


rndmf = RandomForestClassifier()


rndmf.fit(X_train,y_train)


y_pred_rndmf = rndmf.predict(X_test)


accuracy_score(y_test,y_pred_rndmf)






